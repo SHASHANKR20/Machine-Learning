{
  "nbformat": 4,
  "nbformat_minor": 0,
  "metadata": {
    "colab": {
      "provenance": []
    },
    "kernelspec": {
      "name": "python3",
      "display_name": "Python 3"
    },
    "language_info": {
      "name": "python"
    }
  },
  "cells": [
    {
      "cell_type": "code",
      "execution_count": null,
      "metadata": {
        "id": "bQ9EIRmGo-ci"
      },
      "outputs": [],
      "source": [
        "# Importing necessary libraries\n",
        "import pandas as pd\n",
        "import numpy as np\n",
        "from sklearn.model_selection import train_test_split\n",
        "from sklearn.linear_model import LinearRegression\n",
        "from sklearn.tree import DecisionTreeRegressor\n",
        "from sklearn.ensemble import RandomForestRegressor\n",
        "from sklearn.metrics import r2_score\n"
      ]
    },
    {
      "cell_type": "code",
      "source": [
        "# Reading the dataset\n",
        "biowaste_data = pd.read_csv(\"biowaste_data.csv\")  #Upload the emperical dataset (This is just a dumy dataset which I have mentioned)\n"
      ],
      "metadata": {
        "id": "UMme0hf2pUKj"
      },
      "execution_count": null,
      "outputs": []
    },
    {
      "cell_type": "code",
      "source": [
        "# Defining input features and output (Input & output can be varied based on emperical data and research need)\n",
        "X = biowaste_data[['temperature', 'humidity', 'pH', 'substrate', 'oxygen']]\n",
        "y1 = biowaste_data['larvae_conditions']\n",
        "y2 = biowaste_data['high_value_products']\n",
        "y3 = biowaste_data['treatment_time']\n"
      ],
      "metadata": {
        "id": "W-9vJVYgpUNf"
      },
      "execution_count": null,
      "outputs": []
    },
    {
      "cell_type": "code",
      "source": [
        "# Machine Learning Model\n",
        "# Splitting the dataset into training and testing sets\n",
        "X_train, X_test, y1_train, y1_test = train_test_split(X, y1, test_size=0.2, random_state=42)\n",
        "_, _, y2_train, y2_test = train_test_split(X, y2, test_size=0.2, random_state=42)\n",
        "_, _, y3_train, y3_test = train_test_split(X, y3, test_size=0.2, random_state=42)\n"
      ],
      "metadata": {
        "id": "JRvTF5GUpUQd"
      },
      "execution_count": null,
      "outputs": []
    },
    {
      "cell_type": "code",
      "source": [
        "# Initializing the algorithms\n",
        "lr = LinearRegression()\n",
        "dt = DecisionTreeRegressor(random_state=42)\n",
        "rf = RandomForestRegressor(random_state=42)\n"
      ],
      "metadata": {
        "id": "Y9B67qompUTu"
      },
      "execution_count": null,
      "outputs": []
    },
    {
      "cell_type": "code",
      "source": [
        "# Fitting the models\n",
        "lr.fit(X_train, y1_train)\n",
        "dt.fit(X_train, y1_train)\n",
        "rf.fit(X_train, y1_train)\n"
      ],
      "metadata": {
        "id": "QatiZWAbpUW8"
      },
      "execution_count": null,
      "outputs": []
    },
    {
      "cell_type": "code",
      "source": [
        "# Making predictions\n",
        "y1_pred_lr = lr.predict(X_test)\n",
        "y1_pred_dt = dt.predict(X_test)\n",
        "y1_pred_rf = rf.predict(X_test)\n"
      ],
      "metadata": {
        "id": "WaQ687PFpUZr"
      },
      "execution_count": null,
      "outputs": []
    },
    {
      "cell_type": "code",
      "source": [
        "# Evaluating the models\n",
        "print(\"R2 score for Linear Regression:\", r2_score(y1_test, y1_pred_lr))\n",
        "print(\"R2 score for Decision Tree:\", r2_score(y1_test, y1_pred_dt))\n",
        "print(\"R2 score for Random Forest:\", r2_score(y1_test, y1_pred_rf))\n"
      ],
      "metadata": {
        "id": "zosJGVnmpUcr"
      },
      "execution_count": null,
      "outputs": []
    },
    {
      "cell_type": "code",
      "source": [
        "# Predicting the quantity of high-value products\n",
        "lr.fit(X_train, y2_train)\n",
        "dt.fit(X_train, y2_train)\n",
        "rf.fit(X_train, y2_train)\n"
      ],
      "metadata": {
        "id": "ClFg1LhppUf9"
      },
      "execution_count": null,
      "outputs": []
    },
    {
      "cell_type": "code",
      "source": [
        "y2_pred_lr = lr.predict(X_test)\n",
        "y2_pred_dt = dt.predict(X_test)\n",
        "y2_pred_rf = rf.predict(X_test)\n"
      ],
      "metadata": {
        "id": "u_3DNjd5pUjc"
      },
      "execution_count": null,
      "outputs": []
    },
    {
      "cell_type": "code",
      "source": [
        "print(\"R2 score for Linear Regression:\", r2_score(y2_test, y2_pred_lr))\n",
        "print(\"R2 score for Decision Tree:\", r2_score(y2_test, y2_pred_dt))\n",
        "print(\"R2 score for Random Forest:\", r2_score(y2_test, y2_pred_rf))\n"
      ],
      "metadata": {
        "id": "j9U7j_dXpUnA"
      },
      "execution_count": null,
      "outputs": []
    },
    {
      "cell_type": "code",
      "source": [
        "# Predicting the time required for waste treatment and production of high-value products\n",
        "lr.fit(X_train, y3_train)\n",
        "dt.fit(X_train, y3_train)\n",
        "rf.fit(X_train, y3_train)\n"
      ],
      "metadata": {
        "id": "KfeaxeewpUqG"
      },
      "execution_count": null,
      "outputs": []
    },
    {
      "cell_type": "code",
      "source": [
        "y3_pred_lr = lr.predict(X_test)\n",
        "y3_pred_dt = dt.predict(X_test)\n",
        "y3_pred_rf = rf.predict(X_test)\n",
        "\n"
      ],
      "metadata": {
        "id": "24CkUdq3pUtP"
      },
      "execution_count": null,
      "outputs": []
    },
    {
      "cell_type": "code",
      "source": [
        "print(\"R2 score for Linear Regression:\", r2_score(y3_test, y3_pred_lr))\n",
        "print(\"R2 score for Decision Tree:\", r2_score(y3_test, y3_pred_dt))\n",
        "print(\"R2 score for Random Forest:\", r2_score(y3_test, y3_pred_rf))\n"
      ],
      "metadata": {
        "id": "9QzGo_bRpUwo"
      },
      "execution_count": null,
      "outputs": []
    },
    {
      "cell_type": "code",
      "source": [],
      "metadata": {
        "id": "g1VCfrNYpUzt"
      },
      "execution_count": null,
      "outputs": []
    }
  ]
}